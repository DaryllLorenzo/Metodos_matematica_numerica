{
 "cells": [
  {
   "cell_type": "markdown",
   "metadata": {},
   "source": [
    "Daryll Lorenzo Alfonso G-21\n",
    "\n",
    "1. Crear una clase Libro con atributos titulo, autor, y paginas. Incluir un método que imprima los detalles del libro."
   ]
  },
  {
   "cell_type": "code",
   "execution_count": 3,
   "metadata": {},
   "outputs": [
    {
     "name": "stdout",
     "output_type": "stream",
     "text": [
      "Libro de historia\n",
      "Colectivo de autores\n",
      "100000\n"
     ]
    }
   ],
   "source": [
    "class Libro:\n",
    "    def __init__(self, titulo, autor, paginas):\n",
    "        self.__titulo = titulo\n",
    "        self.__autor = autor\n",
    "        self.__paginas = paginas\n",
    "\n",
    "    def getTitulo(self):\n",
    "        return self.__titulo\n",
    "    \n",
    "    def getAutor(self):\n",
    "        return self.__autor\n",
    "    \n",
    "    def getPaginas(self):\n",
    "        return self.__paginas\n",
    "    \n",
    "LibroHistoria = Libro(\"Libro de historia\", \"Colectivo de autores\", 100000)\n",
    "print(LibroHistoria.getTitulo())\n",
    "print(LibroHistoria.getAutor())\n",
    "print(LibroHistoria.getPaginas())"
   ]
  },
  {
   "cell_type": "markdown",
   "metadata": {},
   "source": [
    "2. Crear una clase CuentaBancaria con atributos titular y saldo. Incluir métodos para depositar y retirar dinero, asegurando que el saldo no sea negativo después de un retiro."
   ]
  },
  {
   "cell_type": "code",
   "execution_count": 5,
   "metadata": {},
   "outputs": [
    {
     "name": "stdout",
     "output_type": "stream",
     "text": [
      "5000\n",
      "6000\n",
      "4000\n",
      "No dispones de tanto dinero michino\n",
      "4000\n"
     ]
    }
   ],
   "source": [
    "class CuentaBancaria:\n",
    "    def __init__(self, titular, saldo):\n",
    "        self.__titular = titular\n",
    "        self.__saldo = saldo\n",
    "    \n",
    "    def getTitular(self):\n",
    "        return self.__titular\n",
    "    \n",
    "    def getSaldo(self):\n",
    "        return self.__saldo\n",
    "    \n",
    "    def depositarSaldo(self,nuevoSaldo):\n",
    "        self.__saldo += nuevoSaldo\n",
    "\n",
    "    def retirarSaldo(self, saldoRetirar):\n",
    "        if not saldoRetirar > self.__saldo:\n",
    "            self.__saldo -= saldoRetirar\n",
    "        else:\n",
    "            print(\"No dispones de tanto dinero michino\")\n",
    "    \n",
    "\n",
    "cuenta1 = CuentaBancaria(\"Juanito\", 5000)\n",
    "\n",
    "print(cuenta1.getSaldo())\n",
    "cuenta1.depositarSaldo(1000)\n",
    "print(cuenta1.getSaldo())\n",
    "cuenta1.retirarSaldo(2000)\n",
    "print(cuenta1.getSaldo())\n",
    "cuenta1.retirarSaldo(1000000)\n",
    "print(cuenta1.getSaldo())\n"
   ]
  },
  {
   "cell_type": "markdown",
   "metadata": {},
   "source": [
    "3. Crea un sistema de gestión de empleados que incluye diferentes tipos de empleados (por ejemplo, empleados de tiempo completo, empleados a medio tiempo y contratistas). Cada tipo de empleado debe tener su propia implementación para calcular el salario.\n",
    "\n",
    "    - Crea una clase base abstracta `Empleado` con métodos abstractos `calcular_salario` y `mostrar_informacion`.\n",
    "    - Crea clases derivadas `EmpleadoTiempoCompleto`, EmpleadoMedioTiempo y Contratista que implementen los métodos abstractos.\n",
    "    - Crea una función que reciba una lista de empleados y muestre la información y el salario de cada uno."
   ]
  },
  {
   "cell_type": "code",
   "execution_count": 13,
   "metadata": {},
   "outputs": [
    {
     "name": "stdout",
     "output_type": "stream",
     "text": [
      "<class '__main__.EmpleadoTiempoCompleto'>\n",
      "Pepe\n",
      "560\n",
      "24\n",
      "13440\n",
      "\n",
      "<class '__main__.EmpleadoMedioTIempo'>\n",
      "Perucho\n",
      "300\n",
      "3600.0\n",
      "\n",
      "<class '__main__.Contratista'>\n",
      "ALberto\n",
      "600\n",
      "Cantidad de trabajadores contratados  10\n",
      "14420.0\n",
      "\n"
     ]
    }
   ],
   "source": [
    "#me imagino que para no tener que importar toda la libreria tambien vi una variante\n",
    "# from abc import ABC, y si necesitas algo mas\n",
    "import abc\n",
    "class Empleado(abc.ABC):\n",
    "    def __init__(self,nombre, salario):\n",
    "        self.__nombre = nombre\n",
    "        self.__salario = salario\n",
    "    \n",
    "    @abc.abstractmethod\n",
    "    def calcular_salario():\n",
    "        pass\n",
    "\n",
    "    @abc.abstractmethod\n",
    "    def mostrar_info(self):\n",
    "        pass\n",
    "\n",
    "    def getNombre(self):\n",
    "        return self.__nombre\n",
    "    \n",
    "    def getSalario(self):\n",
    "        return self.__salario   \n",
    "\n",
    "class EmpleadoTiempoCompleto(Empleado):\n",
    "    def __init__(self, nombre, salario, edad):\n",
    "        super().__init__(nombre, salario)\n",
    "        self.__edad = edad\n",
    "    def getEdad(self):\n",
    "        return self.__edad\n",
    "    \n",
    "    def mostrar_info(self):\n",
    "        print(self.getNombre())\n",
    "        print(self.getSalario())\n",
    "        print(self.__edad)\n",
    "\n",
    "    def calcular_salario(self, diasTrabajo):\n",
    "        return self.getSalario() * diasTrabajo\n",
    "\n",
    "class EmpleadoMedioTIempo(Empleado):\n",
    "    def __init__(self, nombre, salario):\n",
    "        super().__init__(nombre, salario)\n",
    "\n",
    "    def mostrar_info(self):\n",
    "        print(self.getNombre())\n",
    "        print(self.getSalario())\n",
    "\n",
    "    def calcular_salario(self, diasTrabajo):\n",
    "        return self.getSalario() * diasTrabajo / 2\n",
    "\n",
    "class Contratista(Empleado):\n",
    "    def __init__(self, nombre, salario, cantTrabContratados):\n",
    "        super().__init__(nombre, salario)\n",
    "        self.__CT = cantTrabContratados\n",
    "    \n",
    "    def mostrar_info(self):\n",
    "        print(self.getNombre())\n",
    "        print(self.getSalario())\n",
    "        print(\"Cantidad de trabajadores contratados \" , self.__CT)\n",
    "\n",
    "    def calcular_salario(self, diasTrabajo):\n",
    "        return self.getSalario() * diasTrabajo + (2.0 * self.__CT)\n",
    "\n",
    "empleado1 = EmpleadoTiempoCompleto(\"Pepe\", 560, 24)\n",
    "\n",
    "empleado2 = EmpleadoMedioTIempo(\"Perucho\", 300)\n",
    "\n",
    "empleado3 = Contratista(\"ALberto\", 600 , 10)\n",
    "\n",
    "def funcion(listaTrabajadores:list):\n",
    "    for x in listaTrabajadores:\n",
    "        print(type(x))\n",
    "        x.mostrar_info()\n",
    "        print(x.calcular_salario(24))\n",
    "        print(\"\")\n",
    "    \n",
    "lista = [empleado1 , empleado2 , empleado3]\n",
    "funcion(lista)"
   ]
  }
 ],
 "metadata": {
  "kernelspec": {
   "display_name": ".venv",
   "language": "python",
   "name": "python3"
  },
  "language_info": {
   "codemirror_mode": {
    "name": "ipython",
    "version": 3
   },
   "file_extension": ".py",
   "mimetype": "text/x-python",
   "name": "python",
   "nbconvert_exporter": "python",
   "pygments_lexer": "ipython3",
   "version": "3.10.12"
  }
 },
 "nbformat": 4,
 "nbformat_minor": 2
}
