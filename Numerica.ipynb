{
 "cells": [
  {
   "cell_type": "markdown",
   "metadata": {},
   "source": [
    "## Notebook para numerica\n",
    "\n",
    "Ejemplo de algunas funciones recordar que hay q pasarles como strings de comillas simples ''  :\n",
    "\n",
    "expresion_log = 'log(x)'\n",
    "\n",
    "expresion_euler = 'e**x'  ##euler elevado a la x\n",
    "\n",
    "expresion_cubo = 'x**3'\n",
    "\n",
    "expresion_trig = 'sin(x) + cos(x)'"
   ]
  },
  {
   "cell_type": "markdown",
   "metadata": {},
   "source": [
    "## Para la parte de derivar e integrar: Utilizando la SimPy"
   ]
  },
  {
   "cell_type": "markdown",
   "metadata": {},
   "source": [
    "Integrar con respecto a x"
   ]
  },
  {
   "cell_type": "code",
   "execution_count": null,
   "metadata": {},
   "outputs": [],
   "source": [
    "from sympy import symbols, integrate\n",
    " \n",
    "\n",
    "x = symbols('x')\n",
    "funcion = x**2\n",
    "integral = integrate(funcion, x)\n",
    "print(f\"La integral de x^2 es: {integral}\")\n",
    "\n",
    "\n",
    "#Este código calculará la integral de x^2 con respecto a x y mostrará el resultado."
   ]
  },
  {
   "cell_type": "markdown",
   "metadata": {},
   "source": [
    "Derivar con respecto a x"
   ]
  },
  {
   "cell_type": "code",
   "execution_count": null,
   "metadata": {},
   "outputs": [],
   "source": [
    "from sympy import symbols, diff\n",
    "\n",
    "x = symbols('x')\n",
    "funcion = x**2\n",
    "derivada = diff(funcion, x)\n",
    "print(f\"La derivada de x^2 es: {derivada}\")\n",
    "\n",
    "\n",
    "#Este código calculará la derivada de x^2 con respecto a x y mostrará el resultado."
   ]
  },
  {
   "cell_type": "markdown",
   "metadata": {},
   "source": [
    "Calcular integral definida"
   ]
  },
  {
   "cell_type": "code",
   "execution_count": null,
   "metadata": {},
   "outputs": [],
   "source": [
    "from sympy import symbols, integrate\n",
    "\n",
    "x = symbols('x')\n",
    "funcion = x**2\n",
    "integral_definida = integrate(funcion, (x, 0, 2))\n",
    "print(f\"La integral definida de x^2 de 0 a 2 es: {integral_definida}\")"
   ]
  },
  {
   "cell_type": "markdown",
   "metadata": {},
   "source": [
    "## Evaluar funciones"
   ]
  },
  {
   "cell_type": "markdown",
   "metadata": {},
   "source": [
    "La idea seria simular una funcion que me calcule la expresion en base a un valor"
   ]
  },
  {
   "cell_type": "code",
   "execution_count": null,
   "metadata": {},
   "outputs": [],
   "source": [
    "import math\n",
    "# log es logaritmo natural\n",
    "#math.e para euler\n",
    "\n",
    "# x**2 - 2x + cosx\n",
    "def f(x):\n",
    "    return x * x - 2 * x + math.cos(x)\n",
    "\n",
    "x = 1\n",
    "print(f(x))"
   ]
  },
  {
   "cell_type": "markdown",
   "metadata": {},
   "source": [
    "## Primer metodo Biseccion"
   ]
  },
  {
   "cell_type": "markdown",
   "metadata": {},
   "source": [
    "El número 3.0517578125e-05 en formato de notación científica significa 0.000030517578125. \n",
    "\n",
    "La letra \"e\" en este contexto representa \"multiplicado por 10 elevado a\", por lo que 3.0517578125e-05 \n",
    "\n",
    "se puede entender como 3.0517578125 * 10^(-5), lo cual es equivalente a 0.000030517578125 en notación decimal estándar."
   ]
  },
  {
   "cell_type": "markdown",
   "metadata": {},
   "source": [
    "Iterativo"
   ]
  },
  {
   "cell_type": "code",
   "execution_count": null,
   "metadata": {},
   "outputs": [],
   "source": [
    "import math\n",
    "#a y b son los extremos \n",
    "#funcion seria la expresion de la funcion recordar que debe pasarse como un string entre comillas simples\n",
    "\n",
    "## escribimos return y seguido la funcion\n",
    "def f(param):\n",
    "    return pow(math.e, param * -1) - param\n",
    "    #pass\n",
    "\n",
    "\n",
    "def biseccion(a, b, err):\n",
    "    i = 1\n",
    "    while True:\n",
    "        x = (a + b) / 2\n",
    "        Error = (b - a) / 2\n",
    "        print(\"Iteracion: \",i)\n",
    "        print(\"a: \",a)\n",
    "        print(\"b: \",b)\n",
    "        print(\"x: \",x)\n",
    "        print(\"Errorm: \",Error)\n",
    "        print(\"\")\n",
    "\n",
    "        if f(x) == 0:\n",
    "            print(\"X es exactamente la raiz \", x)\n",
    "            break\n",
    "        else:\n",
    "            if f(a) * f(x) < 0:\n",
    "                b = x\n",
    "            else:\n",
    "                a = x\n",
    "\n",
    "        if(Error <= err):\n",
    "            print(\"La raiz buscada es x \", x, \" y su error absoluto maximo es Error \",Error)\n",
    "            break\n",
    "        i += 1\n",
    "\n",
    "biseccion(0, 1 , 0.00005)"
   ]
  },
  {
   "cell_type": "markdown",
   "metadata": {},
   "source": [
    "Recursivo"
   ]
  },
  {
   "cell_type": "code",
   "execution_count": null,
   "metadata": {},
   "outputs": [],
   "source": [
    "import math\n",
    "#a y b son los extremos \n",
    "#funcion seria la expresion de la funcion recordar que debe pasarse como un string entre comillas simples\n",
    "\n",
    "## escribimos return y seguido la funcion\n",
    "def f(param):\n",
    "    return pow(math.e, param * -1) - param\n",
    "    #pass\n",
    "\n",
    "def biseccion(a, b, err):\n",
    "    x = (a + b) / 2\n",
    "    Error = (b - a) / 2\n",
    "\n",
    "    print(\"a: \",a)\n",
    "    print(\"b: \",b)\n",
    "    print(\"x: \",x)\n",
    "    print(\"Errorm: \",Error)\n",
    "    print(\"\")\n",
    "    \n",
    "    if f(x) == 0:\n",
    "        print(\"X es exactamente la raiz \", x)\n",
    "        return None\n",
    "    else:\n",
    "        if f(a) * f(x) < 0:\n",
    "            b = x\n",
    "        else:\n",
    "            a = x\n",
    "        \n",
    "    if(Error <= err):\n",
    "        print(\"La raiz buscada es x \", x, \" y su error absoluto maximo es Error \",Error)\n",
    "        return None\n",
    "    \n",
    "    biseccion(a,b,err)\n",
    "\n",
    "biseccion(0, 1 , 0.00005)"
   ]
  },
  {
   "cell_type": "markdown",
   "metadata": {},
   "source": [
    "Por Iteraciones"
   ]
  },
  {
   "cell_type": "code",
   "execution_count": null,
   "metadata": {},
   "outputs": [],
   "source": [
    "import math\n",
    "#a y b son los extremos \n",
    "#funcion seria la expresion de la funcion recordar que debe pasarse como un string entre comillas simples\n",
    "\n",
    "## escribimos return y seguido la funcion\n",
    "def f(param):\n",
    "    return pow(math.e, param * -1) - param\n",
    "    #pass\n",
    "\n",
    "def biseccionPorIter(a,b,iteraciones):\n",
    "    for i in range(iteraciones):\n",
    "        print(\"Iteracion: \", i + 1)\n",
    "        x = (a + b) / 2\n",
    "        Error = (b - a) / 2\n",
    "        \n",
    "        print(\"a: \" ,a)\n",
    "        print(\"b: \",b)\n",
    "        print(\"x: \", x)\n",
    "        print(\"Errorm: \",Error)\n",
    "        print(\"\")   \n",
    "        if f(x) == 0:\n",
    "            print(\"X es exactamente la raiz \", x)\n",
    "            break\n",
    "        else:\n",
    "            if f(a) * f(x) < 0:\n",
    "                b = x\n",
    "            else:\n",
    "                a = x\n",
    "\n",
    "    print(\"La raiz buscada es x \", x, \" y su error absoluto maximo es Error \",Error)\n",
    "\n",
    "biseccionPorIter(0,1,3)"
   ]
  },
  {
   "cell_type": "markdown",
   "metadata": {},
   "source": [
    "## Segundo metodo Regula Falsi"
   ]
  },
  {
   "cell_type": "markdown",
   "metadata": {},
   "source": [
    "EN la primera iteracion en el libro el error no lo cuentan, pero realmente es uno muy grande"
   ]
  },
  {
   "cell_type": "code",
   "execution_count": null,
   "metadata": {},
   "outputs": [],
   "source": [
    "import math\n",
    "#a y b son los extremos \n",
    "#funcion seria la expresion de la funcion recordar que debe pasarse como un string entre comillas simples\n",
    "\n",
    "class Regula:\n",
    "    def __init__(self):\n",
    "        self.xAnt = pow(10,6)\n",
    "    ## escribimos return y seguido la funcion\n",
    "    def f(self,param):\n",
    "        #return 1 / param - 1 / 5\n",
    "        return pow(param,4) + pow(param,3) - 8* pow(param,2) -12 * param -1\n",
    "        #pass\n",
    "\n",
    "    #xAnt = pow(10,6)\n",
    "    def regulaFalsi(self,a,b,err):\n",
    "        x = a - ( (  (b - a) / ( self.f(b) - self.f(a) )  ) * self.f(a) )\n",
    "        Error = abs(x - self.xAnt)\n",
    "        print(\"a: \",a)\n",
    "        print(\"b: \",b)\n",
    "        print(\"x: \",x)\n",
    "        print(\"Errorm: \",Error)\n",
    "        print(\"\")\n",
    "        if( self.f(x) == 0 ):\n",
    "            print(\"X es exactamente la raiz buscada \", x)\n",
    "            return None\n",
    "        else:\n",
    "            if self.f(a) * self.f(x) < 0:\n",
    "                b = x\n",
    "                #a = x\n",
    "            else:\n",
    "                a = x\n",
    "                #b = x\n",
    "        self.xAnt = x\n",
    "        \n",
    "        if(Error <= err):\n",
    "            print(\"La raiz buscada es x \", x, \" y su error absoluto maximo es Error \",Error)\n",
    "            return None\n",
    "        \n",
    "        self.regulaFalsi(a,b,err)\n",
    "\n",
    "reg = Regula()\n",
    "#reg.regulaFalsi(1.5 , 7 , 0.005)\n",
    "reg.regulaFalsi(2.8 , 3.2 , 0.000005)"
   ]
  },
  {
   "cell_type": "markdown",
   "metadata": {},
   "source": [
    "Iterativo"
   ]
  },
  {
   "cell_type": "code",
   "execution_count": null,
   "metadata": {},
   "outputs": [],
   "source": [
    "import math\n",
    "\n",
    "def f(param):\n",
    "        #return 1 / param - 1 / 5\n",
    "        return pow(param,4) + pow(param,3) - 8* pow(param,2) -12 * param -1\n",
    "        #pass\n",
    "\n",
    "def regula(a,b,err):\n",
    "    xAnt = pow(10,6)\n",
    "    salir = False\n",
    "    i = 0\n",
    "    while salir is False :\n",
    "        print(\"Iteracion: \", i + 1)\n",
    "        x = a - ( (  (b - a) / ( f(b) - f(a) )  ) * f(a) )\n",
    "        Error = abs(x - xAnt)\n",
    "        \n",
    "        print(\"a: \" ,a)\n",
    "        print(\"b: \",b)\n",
    "        print(\"x: \", x)\n",
    "        print(\"Errorm: \",Error)\n",
    "        print(\"\")\n",
    "\n",
    "        if( f(x) == 0 ):\n",
    "            print(\"X es exactamente la raiz buscada \", x)\n",
    "            break\n",
    "        else:\n",
    "            if f(a) * f(x) < 0:\n",
    "                b = x\n",
    "                #a = x\n",
    "            else:\n",
    "                a = x\n",
    "                #b = x\n",
    "        xAnt = x\n",
    "        \n",
    "        i+=1\n",
    "        if(Error <= err):\n",
    "            print(\"La raiz buscada es x \", x, \" y su error absoluto maximo es Error \",Error)\n",
    "            break\n",
    "\n",
    "\n",
    "regula(2.8 , 3.2 , 0.000005)\n",
    "#regula(1.5 , 7 , 0.005)"
   ]
  },
  {
   "cell_type": "markdown",
   "metadata": {},
   "source": [
    "Para hacer hasta un cierto numero de iteraciones"
   ]
  },
  {
   "cell_type": "code",
   "execution_count": null,
   "metadata": {},
   "outputs": [],
   "source": [
    "def f(param):\n",
    "        return 1 / param - 1 / 5\n",
    "        #return pow(param,4) + pow(param,3) - 8* pow(param,2) -12 * param -1\n",
    "        #pass\n",
    "\n",
    "def regula(a,b,iteraciones):\n",
    "        xAnt = pow(10,6)\n",
    "        for i in range(iteraciones):\n",
    "                print(\"Iteracion: \", i + 1)\n",
    "                x = a - ( (  (b - a) / ( f(b) - f(a) )  ) * f(a) )\n",
    "                Error = abs(x - xAnt) \n",
    "                print(\"a: \" ,a)\n",
    "                print(\"b: \",b)\n",
    "                print(\"x: \", x)\n",
    "                print(\"Errorm: \",Error)\n",
    "                print(\"\")\n",
    "                if( f(x) == 0 ):\n",
    "                    print(\"X es exactamente la raiz buscada \", x)\n",
    "                    break\n",
    "                else:\n",
    "                    if f(a) * f(x) < 0:\n",
    "                        b = x\n",
    "                        #a = x\n",
    "                    else:\n",
    "                        a = x\n",
    "                        #b = x\n",
    "                xAnt = x\n",
    "regula(1.5,7,3)"
   ]
  },
  {
   "cell_type": "markdown",
   "metadata": {},
   "source": [
    "## Tercer Metodo Newton-Raphson"
   ]
  },
  {
   "cell_type": "markdown",
   "metadata": {},
   "source": [
    "from sympy import symbols, diff, exp\n",
    "\n",
    "\n",
    "Luego, puedes definir la expresión con la función exponencial de Euler usando exp() y asignarla a una variable. Por ejemplo, si queremos derivar la expresión y = e^x, lo hacemos de la siguiente manera:\n",
    "\n",
    "x = symbols('x')\n",
    "\n",
    "y = exp(x)"
   ]
  },
  {
   "cell_type": "markdown",
   "metadata": {},
   "source": [
    "## Obtener Aproximacion Inicial\n",
    "\n",
    "Sea X0 un elemento de [a,b] tal que f(X0) * f´´(X0) > 0     \n",
    "#funcion evaluada en X0(que es la aproximacion inicial ) * la segunda derivada tiene que ser mayor que 0, tolerancia es err "
   ]
  },
  {
   "cell_type": "code",
   "execution_count": null,
   "metadata": {},
   "outputs": [],
   "source": [
    "from sympy import symbols, diff, sin, pi , lambdify\n",
    "import math\n",
    "import numpy\n",
    "\n",
    "def f(param):\n",
    "    return 2 * math.sin(math.pi * param) + param    \n",
    "    #pass\n",
    "\n",
    "def ObtenerAproxIncial(aprox):\n",
    "    funcion = f(aprox)\n",
    "    # expresion, aqui va la funcion en forma de derivada ejemplo\n",
    "    # expresion = x**2 [x al cuadrado]\n",
    "    x = symbols('x')\n",
    "\n",
    "\n",
    "    ##################   !!!!!!!!!  CAMBIARRRR LA EXPRESION  !!!!!!!  ################################\n",
    "    \n",
    "    expresion = 2 * sin(pi * x) + x\n",
    "\n",
    "    ##################   !!!!!!!!!  CON SINTAXIS SYMPY  !!!!!!!  ################################\n",
    "\n",
    "\n",
    "    # Asi para sustituir\n",
    "    # sustitucionPrimeraDer = diff(expresion, x).subs(x , valor)\n",
    "    primeraDer = diff(expresion, x)\n",
    "    segundaDer = diff(primeraDer, x)\n",
    "    landaDer = lambdify(x , segundaDer, 'numpy')\n",
    "\n",
    "\n",
    "    if funcion * landaDer(aprox) > 0:\n",
    "        print(\"El valor de la aproximacion lineal es valido, X0: \",aprox)\n",
    "        print(\"valor de funcion: \",funcion)\n",
    "        print(\"valor de segundaDer: \",landaDer(aprox))\n",
    "        print(funcion * landaDer(aprox))\n",
    "    else:\n",
    "        print(\"NO ES VALIDO hay que probar con otro\")\n",
    "        print(\"valor de funcion: \",funcion)\n",
    "        print(\"valor de segundaDer: \",landaDer(aprox))\n",
    "        print(funcion * landaDer(aprox))\n",
    "    \n",
    "#RANGO [1, 1.25]    \n",
    "ObtenerAproxIncial(1.2)"
   ]
  },
  {
   "cell_type": "markdown",
   "metadata": {},
   "source": [
    "## METODO"
   ]
  },
  {
   "cell_type": "code",
   "execution_count": null,
   "metadata": {},
   "outputs": [],
   "source": [
    "from sympy import symbols, diff, sin, pi, lambdify\n",
    "import math\n",
    "import numpy\n",
    "\n",
    "def f(param):\n",
    "    return 2 * math.sin(math.pi * param) + param    \n",
    "    #pass\n",
    "\n",
    "def NewtonRaphson(aprox, err):\n",
    "    Xant = aprox\n",
    "\n",
    "    x = symbols('x')\n",
    "\n",
    "\n",
    "    ##################   !!!!!!!!!  CAMBIARRRR LA EXPRESION  !!!!!!!  ################################\n",
    "    \n",
    "    expresion = 2 * sin(pi * x) + x\n",
    "\n",
    "    ##################   !!!!!!!!!  CON SINTAXIS SYMPY  !!!!!!!  ################################\n",
    "\n",
    "    primeraDer = diff(expresion, x)\n",
    "    landaDer = lambdify(x , primeraDer, 'numpy')\n",
    "    i = 0\n",
    "    Error = None\n",
    "    while True:\n",
    "        print(\"Iteracion: \",i) \n",
    "        print(\"x: \", Xant)\n",
    "        print(\"Em(x): \", Error)\n",
    "        print(\"\")\n",
    "\n",
    "        equis = Xant - ( f(Xant) / landaDer(Xant)  )\n",
    "        Error = abs(equis - Xant)\n",
    "\n",
    "        Xant = equis\n",
    "\n",
    "        if(Error < err):\n",
    "            print(\"La raiz buscada es x: \",equis , \" y su error absoulto maximo es Error: \",Error)\n",
    "            break\n",
    "        i += 1\n",
    "    \n",
    "NewtonRaphson(1.1 , 0.000005)"
   ]
  },
  {
   "cell_type": "markdown",
   "metadata": {},
   "source": [
    "POR ITERACIONES"
   ]
  },
  {
   "cell_type": "code",
   "execution_count": null,
   "metadata": {},
   "outputs": [],
   "source": [
    "from sympy import symbols, diff, sin, pi, lambdify\n",
    "import math\n",
    "import numpy\n",
    "\n",
    "def f(param):\n",
    "    return 2 * math.sin(math.pi * param) + param    \n",
    "    #pass\n",
    "\n",
    "def NewtonRaphson(aprox, iteraciones):\n",
    "    Xant = aprox\n",
    "\n",
    "    x = symbols('x')\n",
    "\n",
    "\n",
    "    ##################   !!!!!!!!!  CAMBIARRRR LA EXPRESION  !!!!!!!  ################################\n",
    "    \n",
    "    expresion = 2 * sin(pi * x) + x\n",
    "\n",
    "    ##################   !!!!!!!!!  CON SINTAXIS SYMPY  !!!!!!!  ################################\n",
    "\n",
    "    primeraDer = diff(expresion, x)\n",
    "    landaDer = lambdify(x , primeraDer, 'numpy')\n",
    "    i = 0\n",
    "    Error = None\n",
    "    for i in range(iteraciones):\n",
    "        print(\"Iteracion: \",i) \n",
    "        print(\"x: \", Xant)\n",
    "        print(\"Em(x): \", Error)\n",
    "        print(\"\")\n",
    "\n",
    "        equis = Xant - ( f(Xant) / landaDer(Xant)  )\n",
    "        Error = abs(equis - Xant)\n",
    "\n",
    "        Xant = equis\n",
    "\n",
    "    \n",
    "NewtonRaphson(1.1 , 4)"
   ]
  },
  {
   "cell_type": "markdown",
   "metadata": {},
   "source": [
    "## Cuarto metodo SECANTE"
   ]
  },
  {
   "cell_type": "code",
   "execution_count": null,
   "metadata": {},
   "outputs": [],
   "source": [
    "import math\n",
    "\n",
    "def f(param):\n",
    "    return 3.36 * pow(math.e, 3 * param * -1) - 3.84 * pow(math.e, 2 * param * -1) + 0.48\n",
    "    #pass\n",
    "\n",
    "\n",
    "def Secante(aprox1 , aprox2 , err):\n",
    "    Xa = aprox1\n",
    "    Ya = f(Xa)\n",
    "    Xb = aprox2\n",
    "    Yb = f(Xb)\n",
    "\n",
    "    print(\"Iteracion:  0\")\n",
    "    print(\"x: \",aprox1)\n",
    "    print(\"Iteracion:  1\")\n",
    "    print(\"x: \",aprox2)\n",
    "\n",
    "    i = 2\n",
    "    while True:\n",
    "        Xc = Xb - ( ( (Xb - Xa) / (Yb - Ya) )  * Yb  )\n",
    "        Yc = f(Xc)\n",
    "        Error = abs(Xc - Xb)\n",
    "        Xa = Xb\n",
    "        Ya = Yb\n",
    "        Xb = Xc\n",
    "        Yb = Yc\n",
    "        print(\"Iteracion: \",i)\n",
    "        print(\"x: \",Xc)\n",
    "        print(\"Em(x): \",Error)\n",
    "\n",
    "        if(Error < err):\n",
    "            print(\"La raiz buscada es x: \",Xc , \" y su error absoulto maximo es Error: \",Error)\n",
    "            break\n",
    "        i += 1\n",
    "\n",
    "Secante(0.5,1,0.000005)"
   ]
  },
  {
   "cell_type": "markdown",
   "metadata": {},
   "source": [
    "Iterativo"
   ]
  },
  {
   "cell_type": "code",
   "execution_count": null,
   "metadata": {},
   "outputs": [],
   "source": [
    "import math\n",
    "\n",
    "def f(param):\n",
    "    return 3.36 * pow(math.e, 3 * param * -1) - 3.84 * pow(math.e, 2 * param * -1) + 0.48\n",
    "    #pass\n",
    "\n",
    "\n",
    "def Secante(aprox1 , aprox2 , iteraciones):\n",
    "    Xa = aprox1\n",
    "    Ya = f(Xa)\n",
    "    Xb = aprox2\n",
    "    Yb = f(Xb)\n",
    "\n",
    "    print(\"Iteracion:  0\")\n",
    "    print(\"x: \",aprox1)\n",
    "    print(\"Iteracion:  1\")\n",
    "    print(\"x: \",aprox2)\n",
    "\n",
    "    for i in range(2, iteraciones):\n",
    "        Xc = Xb - ( ( (Xb - Xa) / (Yb - Ya) )  * Yb  )\n",
    "        Yc = f(Xc)\n",
    "        Error = abs(Xc - Xb)\n",
    "        Xa = Xb\n",
    "        Ya = Yb\n",
    "        Xb = Xc\n",
    "        Yb = Yc\n",
    "        print(\"Iteracion: \",i)\n",
    "        print(\"x: \",Xc)\n",
    "        print(\"Em(x): \",Error)\n",
    "\n",
    "Secante(0.5,1, 5)"
   ]
  }
 ],
 "metadata": {
  "kernelspec": {
   "display_name": ".venv",
   "language": "python",
   "name": "python3"
  },
  "language_info": {
   "codemirror_mode": {
    "name": "ipython",
    "version": 3
   },
   "file_extension": ".py",
   "mimetype": "text/x-python",
   "name": "python",
   "nbconvert_exporter": "python",
   "pygments_lexer": "ipython3",
   "version": "3.10.12"
  }
 },
 "nbformat": 4,
 "nbformat_minor": 2
}
